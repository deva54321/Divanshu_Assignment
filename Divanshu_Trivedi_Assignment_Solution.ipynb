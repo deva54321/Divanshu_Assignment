{
 "cells": [
  {
   "cell_type": "markdown",
   "id": "9d0142d7",
   "metadata": {},
   "source": [
    "# Problem Statement 1:\n",
    "Write a script in python or javascript to find the solution of the following problem\n",
    "How many two or more digit numbers can you make such that digits on left are always smaller than the digits on the right \n",
    "in the number?"
   ]
  },
  {
   "cell_type": "markdown",
   "id": "b9006d3c",
   "metadata": {},
   "source": [
    "# Solution:"
   ]
  },
  {
   "cell_type": "code",
   "execution_count": 51,
   "id": "d7fb9fd5",
   "metadata": {},
   "outputs": [
    {
     "name": "stdout",
     "output_type": "stream",
     "text": [
      "Enter the number 189\n",
      "189 is valid\n"
     ]
    }
   ],
   "source": [
    "an_int = input(\"Enter the number \")\n",
    "if len(an_int) > 1:\n",
    "    list_of_digits = [int(x) for x in str(an_int)]\n",
    "    count = 1\n",
    "    for i in range(1, len(list_of_digits), 1):\n",
    "        if list_of_digits[i] > list_of_digits[i-1]:\n",
    "            count += 1\n",
    "            continue\n",
    "        else:\n",
    "            print(an_int+' '+\"is not valid\")\n",
    "            break\n",
    "    if count == len(list_of_digits):\n",
    "        print(an_int+' '+\"is valid\")\n",
    "else:\n",
    "    print('please enter two or more digit numbers')\n"
   ]
  },
  {
   "cell_type": "markdown",
   "id": "06acf78f",
   "metadata": {},
   "source": [
    "# Problem Statement 2: \n",
    "Write a script in python or javascript that would take two numbers and generate the additional steps in a json format."
   ]
  },
  {
   "cell_type": "markdown",
   "id": "75e9fc4c",
   "metadata": {},
   "source": [
    "# Solution:"
   ]
  },
  {
   "cell_type": "code",
   "execution_count": 54,
   "id": "b7821b26",
   "metadata": {},
   "outputs": [
    {
     "name": "stdout",
     "output_type": "stream",
     "text": [
      "enter your first no.: 1489\n",
      "enter your second no.: 714\n",
      "{\"step1\": {\"carryString\": \"1\", \"sumString\": \"3\"}, \"step2\": {\"carryString\": \"11\", \"sumString\": \"03\"}, \"step3\": {\"carryString\": \"111\", \"sumString\": \"203\"}, \"step4\": {\"carryString\": \"1110\", \"sumString\": \"2203\"}}\n"
     ]
    }
   ],
   "source": [
    "import json\n",
    "\n",
    "def add(num1, num2):\n",
    "    num1 = str(num1)[::-1]\n",
    "    num2 = str(num2)[::-1]\n",
    "    result = \"\"\n",
    "    carry = 0\n",
    "    steps = {}\n",
    "    \n",
    "    for i in range(max(len(num1), len(num2))):\n",
    "        if i < len(num1):\n",
    "            carry += int(num1[i])\n",
    "        if i < len(num2):\n",
    "            carry += int(num2[i])\n",
    "        result += str(carry % 10)\n",
    "        carry //= 10\n",
    "        steps[f\"step{i+1}\"] = {\"carryString\": \"1\"*i + str(carry), \"sumString\": result[::-1]}\n",
    "        \n",
    "    return json.dumps(steps)\n",
    "\n",
    "num1 = int(input(\"enter your first no.: \"))\n",
    "num2 = int(input(\"enter your second no.: \"))\n",
    "print(add(num1, num2))\n"
   ]
  },
  {
   "cell_type": "code",
   "execution_count": null,
   "id": "0ab59cd3",
   "metadata": {},
   "outputs": [],
   "source": [
    "\n"
   ]
  },
  {
   "cell_type": "code",
   "execution_count": null,
   "id": "ca283d02",
   "metadata": {},
   "outputs": [],
   "source": [
    "\n"
   ]
  },
  {
   "cell_type": "code",
   "execution_count": null,
   "id": "32098171",
   "metadata": {},
   "outputs": [],
   "source": []
  },
  {
   "cell_type": "code",
   "execution_count": null,
   "id": "f6686cc4",
   "metadata": {},
   "outputs": [],
   "source": []
  },
  {
   "cell_type": "code",
   "execution_count": null,
   "id": "8be4e8b0",
   "metadata": {},
   "outputs": [],
   "source": []
  }
 ],
 "metadata": {
  "kernelspec": {
   "display_name": "Python 3 (ipykernel)",
   "language": "python",
   "name": "python3"
  },
  "language_info": {
   "codemirror_mode": {
    "name": "ipython",
    "version": 3
   },
   "file_extension": ".py",
   "mimetype": "text/x-python",
   "name": "python",
   "nbconvert_exporter": "python",
   "pygments_lexer": "ipython3",
   "version": "3.9.7"
  }
 },
 "nbformat": 4,
 "nbformat_minor": 5
}
